{
 "cells": [
  {
   "cell_type": "code",
   "execution_count": 1,
   "metadata": {},
   "outputs": [],
   "source": [
    "import mlflow.pytorch\n",
    "import torch\n",
    "import numpy as np\n",
    "import sys\n",
    "import os\n",
    "\n",
    "sys.path.append(os.path.abspath('..'))\n",
    "sys.path.append(os.path.abspath('../src/models'))\n",
    "\n",
    "from src.models.api import evaluate\n",
    "from src.data.utils import load\n",
    "from src.models.conve import ConveEvaluationModel"
   ]
  },
  {
   "cell_type": "code",
   "execution_count": 3,
   "metadata": {},
   "outputs": [],
   "source": [
    "os.chdir('/mnt/c/Users/Duong Hai Dang/Developer/practical-big-data-science-adl-ai/')\n",
    "maps, data = load()\n",
    "train_triples, valid_triples, test_triples = data.values()"
   ]
  },
  {
   "cell_type": "code",
   "execution_count": 5,
   "metadata": {},
   "outputs": [],
   "source": [
    "sftp_path = 'sftp://sftpuser@10.195.1.54/sftpuser/mlruns/2/0278ec00cc7b47eda553db7c4f66120e/artifacts/models/conve-model-43'\n",
    "conve_model = mlflow.pytorch.load_model(sftp_path, map_location='cpu')\n",
    "\n",
    "device = torch.device('cpu')\n",
    "conve_model.device = device\n",
    "\n",
    "all_positive_triples = np.concatenate([train_triples, valid_triples, test_triples], axis=0)\n",
    "all_positive_triples_tensor = torch.tensor(all_positive_triples,\n",
    "                                    dtype=torch.long,\n",
    "                                    device=device)\n",
    "\n",
    "all_entities_tensor = torch.arange(conve_model.num_entities,\n",
    "                            dtype=torch.long,\n",
    "                            device=device)\n",
    "\n",
    "model = ConveEvaluationModel(conve_model, all_positive_triples_tensor, all_entities_tensor, device='cpu')"
   ]
  },
  {
   "cell_type": "code",
   "execution_count": 12,
   "metadata": {},
   "outputs": [
    {
     "name": "stderr",
     "output_type": "stream",
     "text": [
      "Corrupting triples: 100%|██████████| 20466/20466 [07:00<00:00, 33.36it/s]\n"
     ]
    }
   ],
   "source": [
    "results = conve_model.evaluate(train_triples=np.concatenate([train_triples, valid_triples], axis=0), \n",
    "                               test_triples=test_triples)"
   ]
  },
  {
   "cell_type": "code",
   "execution_count": 8,
   "metadata": {},
   "outputs": [],
   "source": [
    "import tempfile\n",
    "with tempfile.TemporaryDirectory() as tmpdir:\n",
    "        mlflow.set_tracking_uri('http://10.195.1.54')\n",
    "        mlflow.set_experiment('conve-error-analysis')\n",
    "        mlflow.start_run(run_name='updated_conve_evaluation')\n",
    "        evalModel.generate_model_output(output_path=tmpdir,\n",
    "                                        test_triples=test,\n",
    "                                        evaluation_result=results)\n",
    "\n",
    "        files = os.listdir(tmpdir)\n",
    "\n",
    "        for f in files:\n",
    "            mlflow.log_artifact(os.path.join(tmpdir, f))\n",
    "\n",
    "        mlflow.end_run()"
   ]
  },
  {
   "cell_type": "code",
   "execution_count": 13,
   "metadata": {},
   "outputs": [
    {
     "data": {
      "text/plain": [
       "{'hits_at_1': 0.22073194566598262,\n",
       " 'hits_at_3': 0.33636274797224663,\n",
       " 'hits_at_10': 0.47828105150004885,\n",
       " 'mean_rank': 292.32634613505326,\n",
       " 'mean_reciprocal_rank': 0.30646086510207704}"
      ]
     },
     "execution_count": 13,
     "metadata": {},
     "output_type": "execute_result"
    }
   ],
   "source": [
    "results"
   ]
  },
  {
   "cell_type": "code",
   "execution_count": 14,
   "metadata": {},
   "outputs": [
    {
     "name": "stderr",
     "output_type": "stream",
     "text": [
      "Corrupting triples: 100%|██████████| 20466/20466 [09:42<00:00, 35.14it/s]\n"
     ]
    }
   ],
   "source": [
    "unfiltered = conve_model.evaluate(train_triples=np.concatenate([train_triples, valid_triples], axis=0), \n",
    "                               test_triples=test_triples, filter_fn=False)"
   ]
  },
  {
   "cell_type": "code",
   "execution_count": 15,
   "metadata": {},
   "outputs": [
    {
     "data": {
      "text/plain": [
       "{'hits_at_1': 0.10913221929053063,\n",
       " 'hits_at_3': 0.17985927880386984,\n",
       " 'hits_at_10': 0.3089025701162904,\n",
       " 'mean_rank': 457.50090393823905,\n",
       " 'mean_reciprocal_rank': 0.17469986985414263}"
      ]
     },
     "execution_count": 15,
     "metadata": {},
     "output_type": "execute_result"
    }
   ],
   "source": [
    "unfiltered"
   ]
  },
  {
   "cell_type": "code",
   "execution_count": null,
   "metadata": {},
   "outputs": [],
   "source": []
  }
 ],
 "metadata": {
  "kernelspec": {
   "display_name": "bds",
   "language": "python",
   "name": "bds"
  },
  "language_info": {
   "codemirror_mode": {
    "name": "ipython",
    "version": 3
   },
   "file_extension": ".py",
   "mimetype": "text/x-python",
   "name": "python",
   "nbconvert_exporter": "python",
   "pygments_lexer": "ipython3",
   "version": "3.6.7"
  }
 },
 "nbformat": 4,
 "nbformat_minor": 2
}
